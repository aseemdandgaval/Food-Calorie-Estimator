{
 "cells": [
  {
   "cell_type": "markdown",
   "id": "92070ced-e319-45b9-870e-50cc752f255f",
   "metadata": {},
   "source": [
    "# **Regression to find the realtionship between the volume of the bounding cuboid and the actual volume**"
   ]
  },
  {
   "cell_type": "code",
   "execution_count": 3,
   "id": "36ef056b-8886-486c-8ef5-188fb9fb4faf",
   "metadata": {},
   "outputs": [],
   "source": [
    "import numpy as np\n",
    "import pandas as pd\n",
    "import sklearn as sk\n",
    "import matplotlib.pyplot as plt\n",
    "import seaborn as sns\n",
    "from sklearn.model_selection import train_test_split\n",
    "\n",
    "%matplotlib inline\n",
    "sns.set_style('darkgrid')"
   ]
  },
  {
   "cell_type": "code",
   "execution_count": 129,
   "id": "6b728183-f240-44c3-a85f-acb0c7064057",
   "metadata": {},
   "outputs": [],
   "source": [
    "def estimate_volume(cuboid_volume, w, b):\n",
    "    return w * cuboid_volume + b\n",
    "\n",
    "def try_parameters(inputs, targets, w, b):\n",
    "    predictions = estimate_volume(inputs, w, b)\n",
    "    \n",
    "    plt.plot(inputs, predictions, 'r', alpha=0.9);\n",
    "    plt.scatter(inputs, targets, s=8,alpha=0.8);\n",
    "    plt.xlabel('Cuboid Volume');\n",
    "    plt.ylabel('Actual Volume')\n",
    "    plt.legend(['Prediction', 'Actual']);\n",
    "    \n",
    "    #loss = rmse(target, predictions)\n",
    "    #print(\"RMSE Loss: \", loss)"
   ]
  },
  {
   "cell_type": "markdown",
   "id": "3260190c-7500-49e4-8cdd-83a79a490f0a",
   "metadata": {
    "tags": []
   },
   "source": [
    "### **Banana**"
   ]
  },
  {
   "cell_type": "code",
   "execution_count": 170,
   "id": "061c7f53-5ea6-452b-a901-7f97a166a7d0",
   "metadata": {},
   "outputs": [
    {
     "data": {
      "text/html": [
       "<div>\n",
       "<style scoped>\n",
       "    .dataframe tbody tr th:only-of-type {\n",
       "        vertical-align: middle;\n",
       "    }\n",
       "\n",
       "    .dataframe tbody tr th {\n",
       "        vertical-align: top;\n",
       "    }\n",
       "\n",
       "    .dataframe thead th {\n",
       "        text-align: right;\n",
       "    }\n",
       "</style>\n",
       "<table border=\"1\" class=\"dataframe\">\n",
       "  <thead>\n",
       "    <tr style=\"text-align: right;\">\n",
       "      <th></th>\n",
       "      <th>label_top</th>\n",
       "      <th>label_side</th>\n",
       "      <th>lenght</th>\n",
       "      <th>breadth</th>\n",
       "      <th>height</th>\n",
       "      <th>side_x</th>\n",
       "      <th>cuboid_volume</th>\n",
       "      <th>actual_volume</th>\n",
       "      <th>weight</th>\n",
       "    </tr>\n",
       "  </thead>\n",
       "  <tbody>\n",
       "    <tr>\n",
       "      <th>0</th>\n",
       "      <td>banana001T(1)</td>\n",
       "      <td>banana001S(1)</td>\n",
       "      <td>150.704</td>\n",
       "      <td>63.043</td>\n",
       "      <td>40.909</td>\n",
       "      <td>159.231</td>\n",
       "      <td>388.669547</td>\n",
       "      <td>150</td>\n",
       "      <td>149.8</td>\n",
       "    </tr>\n",
       "    <tr>\n",
       "      <th>1</th>\n",
       "      <td>banana001T(2)</td>\n",
       "      <td>banana001S(2)</td>\n",
       "      <td>157.500</td>\n",
       "      <td>89.000</td>\n",
       "      <td>40.882</td>\n",
       "      <td>185.075</td>\n",
       "      <td>573.063435</td>\n",
       "      <td>150</td>\n",
       "      <td>149.8</td>\n",
       "    </tr>\n",
       "    <tr>\n",
       "      <th>2</th>\n",
       "      <td>banana001T(3)</td>\n",
       "      <td>banana001S(3)</td>\n",
       "      <td>165.357</td>\n",
       "      <td>65.000</td>\n",
       "      <td>40.761</td>\n",
       "      <td>167.361</td>\n",
       "      <td>438.107584</td>\n",
       "      <td>150</td>\n",
       "      <td>149.8</td>\n",
       "    </tr>\n",
       "    <tr>\n",
       "      <th>3</th>\n",
       "      <td>banana002T(1)</td>\n",
       "      <td>banana002S(1)</td>\n",
       "      <td>165.441</td>\n",
       "      <td>129.924</td>\n",
       "      <td>46.719</td>\n",
       "      <td>82.143</td>\n",
       "      <td>1004.213528</td>\n",
       "      <td>170</td>\n",
       "      <td>156.9</td>\n",
       "    </tr>\n",
       "    <tr>\n",
       "      <th>4</th>\n",
       "      <td>banana002T(2)</td>\n",
       "      <td>banana002S(2)</td>\n",
       "      <td>171.429</td>\n",
       "      <td>103.024</td>\n",
       "      <td>38.804</td>\n",
       "      <td>89.286</td>\n",
       "      <td>685.329136</td>\n",
       "      <td>170</td>\n",
       "      <td>156.9</td>\n",
       "    </tr>\n",
       "    <tr>\n",
       "      <th>...</th>\n",
       "      <td>...</td>\n",
       "      <td>...</td>\n",
       "      <td>...</td>\n",
       "      <td>...</td>\n",
       "      <td>...</td>\n",
       "      <td>...</td>\n",
       "      <td>...</td>\n",
       "      <td>...</td>\n",
       "      <td>...</td>\n",
       "    </tr>\n",
       "    <tr>\n",
       "      <th>83</th>\n",
       "      <td>banana015T(4)</td>\n",
       "      <td>banana015S(4)</td>\n",
       "      <td>86.620</td>\n",
       "      <td>159.474</td>\n",
       "      <td>28.831</td>\n",
       "      <td>151.075</td>\n",
       "      <td>398.260994</td>\n",
       "      <td>170</td>\n",
       "      <td>164.8</td>\n",
       "    </tr>\n",
       "    <tr>\n",
       "      <th>84</th>\n",
       "      <td>banana015T(5)</td>\n",
       "      <td>banana015S(5)</td>\n",
       "      <td>165.333</td>\n",
       "      <td>82.895</td>\n",
       "      <td>41.168</td>\n",
       "      <td>91.085</td>\n",
       "      <td>564.218927</td>\n",
       "      <td>170</td>\n",
       "      <td>164.8</td>\n",
       "    </tr>\n",
       "    <tr>\n",
       "      <th>85</th>\n",
       "      <td>banana015T(6)</td>\n",
       "      <td>banana015S(6)</td>\n",
       "      <td>103.623</td>\n",
       "      <td>161.579</td>\n",
       "      <td>35.927</td>\n",
       "      <td>132.563</td>\n",
       "      <td>601.536565</td>\n",
       "      <td>170</td>\n",
       "      <td>164.8</td>\n",
       "    </tr>\n",
       "    <tr>\n",
       "      <th>86</th>\n",
       "      <td>banana015T(7)</td>\n",
       "      <td>banana015S(7)</td>\n",
       "      <td>153.333</td>\n",
       "      <td>84.211</td>\n",
       "      <td>39.151</td>\n",
       "      <td>79.580</td>\n",
       "      <td>505.530446</td>\n",
       "      <td>170</td>\n",
       "      <td>164.8</td>\n",
       "    </tr>\n",
       "    <tr>\n",
       "      <th>87</th>\n",
       "      <td>banana015T(8)</td>\n",
       "      <td>banana015S(8)</td>\n",
       "      <td>79.452</td>\n",
       "      <td>170.977</td>\n",
       "      <td>33.403</td>\n",
       "      <td>157.258</td>\n",
       "      <td>453.761871</td>\n",
       "      <td>170</td>\n",
       "      <td>164.8</td>\n",
       "    </tr>\n",
       "  </tbody>\n",
       "</table>\n",
       "<p>88 rows × 9 columns</p>\n",
       "</div>"
      ],
      "text/plain": [
       "        label_top     label_side   lenght  breadth  height   side_x  \\\n",
       "0   banana001T(1)  banana001S(1)  150.704   63.043  40.909  159.231   \n",
       "1   banana001T(2)  banana001S(2)  157.500   89.000  40.882  185.075   \n",
       "2   banana001T(3)  banana001S(3)  165.357   65.000  40.761  167.361   \n",
       "3   banana002T(1)  banana002S(1)  165.441  129.924  46.719   82.143   \n",
       "4   banana002T(2)  banana002S(2)  171.429  103.024  38.804   89.286   \n",
       "..            ...            ...      ...      ...     ...      ...   \n",
       "83  banana015T(4)  banana015S(4)   86.620  159.474  28.831  151.075   \n",
       "84  banana015T(5)  banana015S(5)  165.333   82.895  41.168   91.085   \n",
       "85  banana015T(6)  banana015S(6)  103.623  161.579  35.927  132.563   \n",
       "86  banana015T(7)  banana015S(7)  153.333   84.211  39.151   79.580   \n",
       "87  banana015T(8)  banana015S(8)   79.452  170.977  33.403  157.258   \n",
       "\n",
       "    cuboid_volume  actual_volume  weight  \n",
       "0      388.669547            150   149.8  \n",
       "1      573.063435            150   149.8  \n",
       "2      438.107584            150   149.8  \n",
       "3     1004.213528            170   156.9  \n",
       "4      685.329136            170   156.9  \n",
       "..            ...            ...     ...  \n",
       "83     398.260994            170   164.8  \n",
       "84     564.218927            170   164.8  \n",
       "85     601.536565            170   164.8  \n",
       "86     505.530446            170   164.8  \n",
       "87     453.761871            170   164.8  \n",
       "\n",
       "[88 rows x 9 columns]"
      ]
     },
     "execution_count": 170,
     "metadata": {},
     "output_type": "execute_result"
    }
   ],
   "source": [
    "banana_df = pd.read_csv('ECUSTFD-resized-/Regression/processed_regression_banana.csv')\n",
    "banana_df"
   ]
  },
  {
   "cell_type": "code",
   "execution_count": 171,
   "id": "981dd468-051a-4ec5-8429-be0f969680a3",
   "metadata": {},
   "outputs": [
    {
     "data": {
      "text/plain": [
       "<AxesSubplot:xlabel='cuboid_volume', ylabel='actual_volume'>"
      ]
     },
     "execution_count": 171,
     "metadata": {},
     "output_type": "execute_result"
    },
    {
     "data": {
      "image/png": "[encoded data removed]",
      "text/plain": [
       "<Figure size 432x288 with 1 Axes>"
      ]
     },
     "metadata": {},
     "output_type": "display_data"
    }
   ],
   "source": [
    "sns.scatterplot(x=banana_df.cuboid_volume, y=banana_df.actual_volume)"
   ]
  },
  {
   "cell_type": "code",
   "execution_count": 172,
   "id": "3433d81e-3263-422c-8c91-4fc7248dc6e2",
   "metadata": {},
   "outputs": [],
   "source": [
    "X_train = banana_df.cuboid_volume.values\n",
    "y_train = banana_df.actual_volume.values"
   ]
  },
  {
   "cell_type": "code",
   "execution_count": 173,
   "id": "1182f18b-5e2b-46e9-9147-667205ed67db",
   "metadata": {
    "tags": []
   },
   "outputs": [
    {
     "data": {
      "text/plain": [
       "LinearRegression(fit_intercept=False)"
      ]
     },
     "execution_count": 173,
     "metadata": {},
     "output_type": "execute_result"
    }
   ],
   "source": [
    "X_train = X_train.reshape(-1,1)\n",
    "y_train = y_train.reshape(-1,1)\n",
    "\n",
    "banana_model = LinearRegression(fit_intercept=False)\n",
    "banana_model.fit(X_train, y_train)"
   ]
  },
  {
   "cell_type": "code",
   "execution_count": 176,
   "id": "598ee28b-bd9b-4adf-844f-492bac1fa18b",
   "metadata": {},
   "outputs": [
    {
     "name": "stdout",
     "output_type": "stream",
     "text": [
      "[[0.30595057]]\n",
      "0.0\n"
     ]
    }
   ],
   "source": [
    "print(banana_model.coef_)\n",
    "print(banana_model.intercept_)"
   ]
  },
  {
   "cell_type": "code",
   "execution_count": 175,
   "id": "9edc6911-3c52-4c01-b54d-7b95da7bc131",
   "metadata": {},
   "outputs": [
    {
     "data": {
      "image/png": "[encoded data removed]",
      "text/plain": [
       "<Figure size 432x288 with 1 Axes>"
      ]
     },
     "metadata": {},
     "output_type": "display_data"
    }
   ],
   "source": [
    "try_parameters(banana_df.cuboid_volume, banana_df.actual_volume, banana_model.coef_[0], banana_model.intercept_)"
   ]
  },
  {
   "cell_type": "markdown",
   "id": "912a9dca-5b3e-4d1c-a4b1-57ae2ef686be",
   "metadata": {},
   "source": [
    "### **Buns**"
   ]
  },
  {
   "cell_type": "code",
   "execution_count": 178,
   "id": "f03728ef-4c58-4f29-ad98-72fc03cadb45",
   "metadata": {},
   "outputs": [
    {
     "data": {
      "text/html": [
       "<div>\n",
       "<style scoped>\n",
       "    .dataframe tbody tr th:only-of-type {\n",
       "        vertical-align: middle;\n",
       "    }\n",
       "\n",
       "    .dataframe tbody tr th {\n",
       "        vertical-align: top;\n",
       "    }\n",
       "\n",
       "    .dataframe thead th {\n",
       "        text-align: right;\n",
       "    }\n",
       "</style>\n",
       "<table border=\"1\" class=\"dataframe\">\n",
       "  <thead>\n",
       "    <tr style=\"text-align: right;\">\n",
       "      <th></th>\n",
       "      <th>label_top</th>\n",
       "      <th>label_side</th>\n",
       "      <th>lenght</th>\n",
       "      <th>breadth</th>\n",
       "      <th>height</th>\n",
       "      <th>side_x</th>\n",
       "      <th>cuboid_volume</th>\n",
       "      <th>actual_volume</th>\n",
       "      <th>weight</th>\n",
       "    </tr>\n",
       "  </thead>\n",
       "  <tbody>\n",
       "    <tr>\n",
       "      <th>0</th>\n",
       "      <td>bun001T(1)</td>\n",
       "      <td>bun001S(1)</td>\n",
       "      <td>100.301</td>\n",
       "      <td>82.883</td>\n",
       "      <td>61.198</td>\n",
       "      <td>78.261</td>\n",
       "      <td>508.754138</td>\n",
       "      <td>210</td>\n",
       "      <td>80.4</td>\n",
       "    </tr>\n",
       "    <tr>\n",
       "      <th>1</th>\n",
       "      <td>bun001T(2)</td>\n",
       "      <td>bun001S(2)</td>\n",
       "      <td>90.385</td>\n",
       "      <td>78.571</td>\n",
       "      <td>65.487</td>\n",
       "      <td>70.430</td>\n",
       "      <td>465.065088</td>\n",
       "      <td>210</td>\n",
       "      <td>80.4</td>\n",
       "    </tr>\n",
       "    <tr>\n",
       "      <th>2</th>\n",
       "      <td>bun001T(3)</td>\n",
       "      <td>bun001S(3)</td>\n",
       "      <td>76.075</td>\n",
       "      <td>102.193</td>\n",
       "      <td>62.621</td>\n",
       "      <td>82.267</td>\n",
       "      <td>486.836474</td>\n",
       "      <td>210</td>\n",
       "      <td>80.4</td>\n",
       "    </tr>\n",
       "    <tr>\n",
       "      <th>3</th>\n",
       "      <td>bun001T(4)</td>\n",
       "      <td>bun001S(4)</td>\n",
       "      <td>88.636</td>\n",
       "      <td>80.963</td>\n",
       "      <td>64.474</td>\n",
       "      <td>72.253</td>\n",
       "      <td>462.680670</td>\n",
       "      <td>210</td>\n",
       "      <td>80.4</td>\n",
       "    </tr>\n",
       "    <tr>\n",
       "      <th>4</th>\n",
       "      <td>bun001T(5)</td>\n",
       "      <td>bun001S(5)</td>\n",
       "      <td>80.592</td>\n",
       "      <td>84.048</td>\n",
       "      <td>57.250</td>\n",
       "      <td>92.333</td>\n",
       "      <td>387.788395</td>\n",
       "      <td>210</td>\n",
       "      <td>80.4</td>\n",
       "    </tr>\n",
       "    <tr>\n",
       "      <th>5</th>\n",
       "      <td>bun001T(6)</td>\n",
       "      <td>bun001S(6)</td>\n",
       "      <td>93.902</td>\n",
       "      <td>69.907</td>\n",
       "      <td>58.333</td>\n",
       "      <td>86.567</td>\n",
       "      <td>382.921560</td>\n",
       "      <td>210</td>\n",
       "      <td>80.4</td>\n",
       "    </tr>\n",
       "    <tr>\n",
       "      <th>6</th>\n",
       "      <td>bun001T(7)</td>\n",
       "      <td>bun001S(7)</td>\n",
       "      <td>82.237</td>\n",
       "      <td>97.250</td>\n",
       "      <td>58.168</td>\n",
       "      <td>88.542</td>\n",
       "      <td>465.201387</td>\n",
       "      <td>210</td>\n",
       "      <td>80.4</td>\n",
       "    </tr>\n",
       "    <tr>\n",
       "      <th>7</th>\n",
       "      <td>bun002T(1)</td>\n",
       "      <td>bun002S(1)</td>\n",
       "      <td>104.276</td>\n",
       "      <td>84.694</td>\n",
       "      <td>53.704</td>\n",
       "      <td>76.989</td>\n",
       "      <td>474.289644</td>\n",
       "      <td>230</td>\n",
       "      <td>93.6</td>\n",
       "    </tr>\n",
       "    <tr>\n",
       "      <th>8</th>\n",
       "      <td>bun002T(2)</td>\n",
       "      <td>bun002S(2)</td>\n",
       "      <td>80.747</td>\n",
       "      <td>103.440</td>\n",
       "      <td>57.619</td>\n",
       "      <td>80.814</td>\n",
       "      <td>481.260950</td>\n",
       "      <td>230</td>\n",
       "      <td>93.6</td>\n",
       "    </tr>\n",
       "    <tr>\n",
       "      <th>9</th>\n",
       "      <td>bun002T(3)</td>\n",
       "      <td>bun002S(3)</td>\n",
       "      <td>89.655</td>\n",
       "      <td>78.095</td>\n",
       "      <td>49.537</td>\n",
       "      <td>93.976</td>\n",
       "      <td>346.838617</td>\n",
       "      <td>230</td>\n",
       "      <td>93.6</td>\n",
       "    </tr>\n",
       "  </tbody>\n",
       "</table>\n",
       "</div>"
      ],
      "text/plain": [
       "    label_top  label_side   lenght  breadth  height  side_x  cuboid_volume  \\\n",
       "0  bun001T(1)  bun001S(1)  100.301   82.883  61.198  78.261     508.754138   \n",
       "1  bun001T(2)  bun001S(2)   90.385   78.571  65.487  70.430     465.065088   \n",
       "2  bun001T(3)  bun001S(3)   76.075  102.193  62.621  82.267     486.836474   \n",
       "3  bun001T(4)  bun001S(4)   88.636   80.963  64.474  72.253     462.680670   \n",
       "4  bun001T(5)  bun001S(5)   80.592   84.048  57.250  92.333     387.788395   \n",
       "5  bun001T(6)  bun001S(6)   93.902   69.907  58.333  86.567     382.921560   \n",
       "6  bun001T(7)  bun001S(7)   82.237   97.250  58.168  88.542     465.201387   \n",
       "7  bun002T(1)  bun002S(1)  104.276   84.694  53.704  76.989     474.289644   \n",
       "8  bun002T(2)  bun002S(2)   80.747  103.440  57.619  80.814     481.260950   \n",
       "9  bun002T(3)  bun002S(3)   89.655   78.095  49.537  93.976     346.838617   \n",
       "\n",
       "   actual_volume  weight  \n",
       "0            210    80.4  \n",
       "1            210    80.4  \n",
       "2            210    80.4  \n",
       "3            210    80.4  \n",
       "4            210    80.4  \n",
       "5            210    80.4  \n",
       "6            210    80.4  \n",
       "7            230    93.6  \n",
       "8            230    93.6  \n",
       "9            230    93.6  "
      ]
     },
     "execution_count": 178,
     "metadata": {},
     "output_type": "execute_result"
    }
   ],
   "source": [
    "bun_df = pd.read_csv('ECUSTFD-resized-/Regression/processed_regression_bun.csv')\n",
    "bun_df.head(10)"
   ]
  },
  {
   "cell_type": "code",
   "execution_count": 179,
   "id": "2434eb6f-d317-485c-b93c-b8825f52fa6a",
   "metadata": {},
   "outputs": [
    {
     "data": {
      "text/plain": [
       "<AxesSubplot:xlabel='cuboid_volume', ylabel='actual_volume'>"
      ]
     },
     "execution_count": 179,
     "metadata": {},
     "output_type": "execute_result"
    },
    {
     "data": {
      "image/png": "[encoded data removed]",
      "text/plain": [
       "<Figure size 432x288 with 1 Axes>"
      ]
     },
     "metadata": {},
     "output_type": "display_data"
    }
   ],
   "source": [
    "sns.scatterplot(x=bun_df.cuboid_volume, y=bun_df.actual_volume)"
   ]
  },
  {
   "cell_type": "code",
   "execution_count": 180,
   "id": "1cf40316-12b2-49b0-ba95-1bb4a41e54ea",
   "metadata": {},
   "outputs": [],
   "source": [
    "X_train = bun_df.cuboid_volume.values\n",
    "y_train = bun_df.actual_volume.values"
   ]
  },
  {
   "cell_type": "code",
   "execution_count": 181,
   "id": "f045dbb1-965b-40d1-a1d1-4215dcca874b",
   "metadata": {},
   "outputs": [
    {
     "data": {
      "text/plain": [
       "LinearRegression(fit_intercept=False)"
      ]
     },
     "execution_count": 181,
     "metadata": {},
     "output_type": "execute_result"
    }
   ],
   "source": [
    "X_train = X_train.reshape(-1,1)\n",
    "y_train = y_train.reshape(-1,1)\n",
    "\n",
    "bun_model = LinearRegression(fit_intercept=False)\n",
    "bun_model.fit(X_train, y_train)"
   ]
  },
  {
   "cell_type": "code",
   "execution_count": 182,
   "id": "987f865f-c48d-4250-a7d9-93dd39f83655",
   "metadata": {},
   "outputs": [
    {
     "name": "stdout",
     "output_type": "stream",
     "text": [
      "[[0.50131792]]\n",
      "0.0\n"
     ]
    }
   ],
   "source": [
    "print(bun_model.coef_)\n",
    "print(bun_model.intercept_)"
   ]
  },
  {
   "cell_type": "code",
   "execution_count": 183,
   "id": "f9b81b3b-1f02-4fe4-a950-e2cc62394408",
   "metadata": {},
   "outputs": [
    {
     "data": {
      "image/png": "[encoded data removed]",
      "text/plain": [
       "<Figure size 432x288 with 1 Axes>"
      ]
     },
     "metadata": {},
     "output_type": "display_data"
    }
   ],
   "source": [
    "try_parameters(bun_df.cuboid_volume, bun_df.actual_volume, bun_model.coef_[0], bun_model.intercept_)"
   ]
  },
  {
   "cell_type": "markdown",
   "id": "b9234d32-46af-41f7-9ed4-ac170062750f",
   "metadata": {},
   "source": [
    "### **Fired Dough Twists**"
   ]
  },
  {
   "cell_type": "code",
   "execution_count": 200,
   "id": "2b7bd72f-f89d-4201-a782-37aaa3a1b0de",
   "metadata": {},
   "outputs": [
    {
     "data": {
      "text/html": [
       "<div>\n",
       "<style scoped>\n",
       "    .dataframe tbody tr th:only-of-type {\n",
       "        vertical-align: middle;\n",
       "    }\n",
       "\n",
       "    .dataframe tbody tr th {\n",
       "        vertical-align: top;\n",
       "    }\n",
       "\n",
       "    .dataframe thead th {\n",
       "        text-align: right;\n",
       "    }\n",
       "</style>\n",
       "<table border=\"1\" class=\"dataframe\">\n",
       "  <thead>\n",
       "    <tr style=\"text-align: right;\">\n",
       "      <th></th>\n",
       "      <th>label_top</th>\n",
       "      <th>label_side</th>\n",
       "      <th>lenght</th>\n",
       "      <th>breadth</th>\n",
       "      <th>height</th>\n",
       "      <th>side_x</th>\n",
       "      <th>cuboid_volume</th>\n",
       "      <th>actual_volume</th>\n",
       "      <th>weight</th>\n",
       "    </tr>\n",
       "  </thead>\n",
       "  <tbody>\n",
       "    <tr>\n",
       "      <th>0</th>\n",
       "      <td>fired_dough_twist001T(1)</td>\n",
       "      <td>fired_dough_twist001S(1)</td>\n",
       "      <td>43.919</td>\n",
       "      <td>113.281</td>\n",
       "      <td>42.982</td>\n",
       "      <td>98.138</td>\n",
       "      <td>213.843541</td>\n",
       "      <td>60</td>\n",
       "      <td>37.8</td>\n",
       "    </tr>\n",
       "    <tr>\n",
       "      <th>1</th>\n",
       "      <td>fired_dough_twist001T(2)</td>\n",
       "      <td>fired_dough_twist001S(2)</td>\n",
       "      <td>42.697</td>\n",
       "      <td>108.836</td>\n",
       "      <td>40.570</td>\n",
       "      <td>99.438</td>\n",
       "      <td>188.527601</td>\n",
       "      <td>60</td>\n",
       "      <td>37.8</td>\n",
       "    </tr>\n",
       "    <tr>\n",
       "      <th>2</th>\n",
       "      <td>fired_dough_twist001T(3)</td>\n",
       "      <td>fired_dough_twist001S(3)</td>\n",
       "      <td>48.052</td>\n",
       "      <td>103.960</td>\n",
       "      <td>39.440</td>\n",
       "      <td>99.719</td>\n",
       "      <td>197.021965</td>\n",
       "      <td>60</td>\n",
       "      <td>37.8</td>\n",
       "    </tr>\n",
       "    <tr>\n",
       "      <th>3</th>\n",
       "      <td>fired_dough_twist001T(4)</td>\n",
       "      <td>fired_dough_twist001S(4)</td>\n",
       "      <td>51.136</td>\n",
       "      <td>106.183</td>\n",
       "      <td>39.381</td>\n",
       "      <td>97.554</td>\n",
       "      <td>213.829926</td>\n",
       "      <td>60</td>\n",
       "      <td>37.8</td>\n",
       "    </tr>\n",
       "    <tr>\n",
       "      <th>4</th>\n",
       "      <td>fired_dough_twist001T(5)</td>\n",
       "      <td>fired_dough_twist001S(5)</td>\n",
       "      <td>40.663</td>\n",
       "      <td>103.810</td>\n",
       "      <td>40.132</td>\n",
       "      <td>90.365</td>\n",
       "      <td>169.406243</td>\n",
       "      <td>60</td>\n",
       "      <td>37.8</td>\n",
       "    </tr>\n",
       "    <tr>\n",
       "      <th>5</th>\n",
       "      <td>fired_dough_twist001T(6)</td>\n",
       "      <td>fired_dough_twist001S(6)</td>\n",
       "      <td>37.013</td>\n",
       "      <td>102.551</td>\n",
       "      <td>41.595</td>\n",
       "      <td>105.056</td>\n",
       "      <td>157.882980</td>\n",
       "      <td>60</td>\n",
       "      <td>37.8</td>\n",
       "    </tr>\n",
       "    <tr>\n",
       "      <th>6</th>\n",
       "      <td>fired_dough_twist001T(7)</td>\n",
       "      <td>fired_dough_twist001S(7)</td>\n",
       "      <td>42.284</td>\n",
       "      <td>100.450</td>\n",
       "      <td>39.076</td>\n",
       "      <td>94.837</td>\n",
       "      <td>165.972489</td>\n",
       "      <td>60</td>\n",
       "      <td>37.8</td>\n",
       "    </tr>\n",
       "    <tr>\n",
       "      <th>7</th>\n",
       "      <td>fired_dough_twist001T(8)</td>\n",
       "      <td>fired_dough_twist001S(8)</td>\n",
       "      <td>48.611</td>\n",
       "      <td>103.061</td>\n",
       "      <td>42.647</td>\n",
       "      <td>100.000</td>\n",
       "      <td>213.657132</td>\n",
       "      <td>60</td>\n",
       "      <td>37.8</td>\n",
       "    </tr>\n",
       "    <tr>\n",
       "      <th>8</th>\n",
       "      <td>fired_dough_twist001T(9)</td>\n",
       "      <td>fired_dough_twist001S(9)</td>\n",
       "      <td>43.750</td>\n",
       "      <td>102.723</td>\n",
       "      <td>39.693</td>\n",
       "      <td>93.280</td>\n",
       "      <td>178.385552</td>\n",
       "      <td>60</td>\n",
       "      <td>37.8</td>\n",
       "    </tr>\n",
       "    <tr>\n",
       "      <th>9</th>\n",
       "      <td>fired_dough_twist002T(1)</td>\n",
       "      <td>fired_dough_twist002S(1)</td>\n",
       "      <td>55.556</td>\n",
       "      <td>95.991</td>\n",
       "      <td>44.538</td>\n",
       "      <td>91.223</td>\n",
       "      <td>237.515631</td>\n",
       "      <td>70</td>\n",
       "      <td>45.9</td>\n",
       "    </tr>\n",
       "  </tbody>\n",
       "</table>\n",
       "</div>"
      ],
      "text/plain": [
       "                  label_top                label_side  lenght  breadth  \\\n",
       "0  fired_dough_twist001T(1)  fired_dough_twist001S(1)  43.919  113.281   \n",
       "1  fired_dough_twist001T(2)  fired_dough_twist001S(2)  42.697  108.836   \n",
       "2  fired_dough_twist001T(3)  fired_dough_twist001S(3)  48.052  103.960   \n",
       "3  fired_dough_twist001T(4)  fired_dough_twist001S(4)  51.136  106.183   \n",
       "4  fired_dough_twist001T(5)  fired_dough_twist001S(5)  40.663  103.810   \n",
       "5  fired_dough_twist001T(6)  fired_dough_twist001S(6)  37.013  102.551   \n",
       "6  fired_dough_twist001T(7)  fired_dough_twist001S(7)  42.284  100.450   \n",
       "7  fired_dough_twist001T(8)  fired_dough_twist001S(8)  48.611  103.061   \n",
       "8  fired_dough_twist001T(9)  fired_dough_twist001S(9)  43.750  102.723   \n",
       "9  fired_dough_twist002T(1)  fired_dough_twist002S(1)  55.556   95.991   \n",
       "\n",
       "   height   side_x  cuboid_volume  actual_volume  weight  \n",
       "0  42.982   98.138     213.843541             60    37.8  \n",
       "1  40.570   99.438     188.527601             60    37.8  \n",
       "2  39.440   99.719     197.021965             60    37.8  \n",
       "3  39.381   97.554     213.829926             60    37.8  \n",
       "4  40.132   90.365     169.406243             60    37.8  \n",
       "5  41.595  105.056     157.882980             60    37.8  \n",
       "6  39.076   94.837     165.972489             60    37.8  \n",
       "7  42.647  100.000     213.657132             60    37.8  \n",
       "8  39.693   93.280     178.385552             60    37.8  \n",
       "9  44.538   91.223     237.515631             70    45.9  "
      ]
     },
     "execution_count": 200,
     "metadata": {},
     "output_type": "execute_result"
    }
   ],
   "source": [
    "fired_dough_twist_df = pd.read_csv('ECUSTFD-resized-/Regression/processed_regression_fired_dough_twist.csv')\n",
    "fired_dough_twist_df.head(10)"
   ]
  },
  {
   "cell_type": "code",
   "execution_count": 201,
   "id": "d8714426-fa16-4b57-8c1f-c6099965a124",
   "metadata": {},
   "outputs": [
    {
     "data": {
      "text/plain": [
       "<AxesSubplot:xlabel='cuboid_volume', ylabel='actual_volume'>"
      ]
     },
     "execution_count": 201,
     "metadata": {},
     "output_type": "execute_result"
    },
    {
     "data": {
      "image/png": "[encoded data removed]",
      "text/plain": [
       "<Figure size 432x288 with 1 Axes>"
      ]
     },
     "metadata": {},
     "output_type": "display_data"
    }
   ],
   "source": [
    "sns.scatterplot(x=fired_dough_twist_df.cuboid_volume, y=fired_dough_twist_df.actual_volume)"
   ]
  },
  {
   "cell_type": "code",
   "execution_count": 202,
   "id": "bed10d96-07a0-4fe9-923b-1ffb5f94a091",
   "metadata": {},
   "outputs": [],
   "source": [
    "# CLipping Outliers\n",
    "\n",
    "for i in range(len(fired_dough_twist_df.cuboid_volume)):\n",
    "    if fired_dough_twist_df.actual_volume[i]>=80:\n",
    "        fired_dough_twist_df.drop(i, inplace = True)"
   ]
  },
  {
   "cell_type": "code",
   "execution_count": 204,
   "id": "de1fa002-4924-4709-8af0-c87e608211b9",
   "metadata": {},
   "outputs": [
    {
     "data": {
      "text/plain": [
       "<AxesSubplot:xlabel='cuboid_volume', ylabel='actual_volume'>"
      ]
     },
     "execution_count": 204,
     "metadata": {},
     "output_type": "execute_result"
    },
    {
     "data": {
      "image/png": "[encoded data removed]",
      "text/plain": [
       "<Figure size 432x288 with 1 Axes>"
      ]
     },
     "metadata": {},
     "output_type": "display_data"
    }
   ],
   "source": [
    "sns.scatterplot(x=fired_dough_twist_df.cuboid_volume, y=fired_dough_twist_df.actual_volume)"
   ]
  },
  {
   "cell_type": "code",
   "execution_count": 205,
   "id": "4865761c-c715-4789-adf6-c0e649f4f85f",
   "metadata": {},
   "outputs": [],
   "source": [
    "X_train = fired_dough_twist_df.cuboid_volume.values\n",
    "y_train = fired_dough_twist_df.actual_volume.values"
   ]
  },
  {
   "cell_type": "code",
   "execution_count": 206,
   "id": "c2c83665-5e2b-4a63-a4e1-48d7d536a8a6",
   "metadata": {},
   "outputs": [
    {
     "data": {
      "text/plain": [
       "LinearRegression(fit_intercept=False)"
      ]
     },
     "execution_count": 206,
     "metadata": {},
     "output_type": "execute_result"
    }
   ],
   "source": [
    "X_train = X_train.reshape(-1,1)\n",
    "y_train = y_train.reshape(-1,1)\n",
    "\n",
    "fired_dough_twist_model = LinearRegression(fit_intercept=False)\n",
    "fired_dough_twist_model.fit(X_train, y_train)"
   ]
  },
  {
   "cell_type": "code",
   "execution_count": 207,
   "id": "bc6c6dfc-4fc0-4a1b-bcc5-8a4e87a1edfe",
   "metadata": {},
   "outputs": [
    {
     "name": "stdout",
     "output_type": "stream",
     "text": [
      "[[0.35883859]]\n",
      "0.0\n"
     ]
    }
   ],
   "source": [
    "print(fired_dough_twist_model.coef_)\n",
    "print(fired_dough_twist_model.intercept_)"
   ]
  },
  {
   "cell_type": "code",
   "execution_count": 208,
   "id": "1c295371-fea2-4260-b395-d56e833c0a63",
   "metadata": {},
   "outputs": [
    {
     "data": {
      "image/png": "[encoded data removed]",
      "text/plain": [
       "<Figure size 432x288 with 1 Axes>"
      ]
     },
     "metadata": {},
     "output_type": "display_data"
    }
   ],
   "source": [
    "try_parameters(fired_dough_twist_df.cuboid_volume, fired_dough_twist_df.actual_volume, fired_dough_twist_model.coef_[0], fired_dough_twist_model.intercept_)"
   ]
  },
  {
   "cell_type": "markdown",
   "id": "3d71f169-1add-49ff-9f81-b4067cd0e06e",
   "metadata": {},
   "source": [
    "### **Grape**"
   ]
  },
  {
   "cell_type": "code",
   "execution_count": 190,
   "id": "fa002c5b-3bf5-42b0-bb0f-09447d466cbc",
   "metadata": {},
   "outputs": [
    {
     "data": {
      "text/html": [
       "<div>\n",
       "<style scoped>\n",
       "    .dataframe tbody tr th:only-of-type {\n",
       "        vertical-align: middle;\n",
       "    }\n",
       "\n",
       "    .dataframe tbody tr th {\n",
       "        vertical-align: top;\n",
       "    }\n",
       "\n",
       "    .dataframe thead th {\n",
       "        text-align: right;\n",
       "    }\n",
       "</style>\n",
       "<table border=\"1\" class=\"dataframe\">\n",
       "  <thead>\n",
       "    <tr style=\"text-align: right;\">\n",
       "      <th></th>\n",
       "      <th>label_top</th>\n",
       "      <th>label_side</th>\n",
       "      <th>lenght</th>\n",
       "      <th>breadth</th>\n",
       "      <th>height</th>\n",
       "      <th>side_x</th>\n",
       "      <th>cuboid_volume</th>\n",
       "      <th>actual_volume</th>\n",
       "      <th>weight</th>\n",
       "    </tr>\n",
       "  </thead>\n",
       "  <tbody>\n",
       "    <tr>\n",
       "      <th>0</th>\n",
       "      <td>grape001T(1)</td>\n",
       "      <td>grape001S(1)</td>\n",
       "      <td>181.452</td>\n",
       "      <td>173.476</td>\n",
       "      <td>108.252</td>\n",
       "      <td>161.111</td>\n",
       "      <td>3407.509599</td>\n",
       "      <td>450</td>\n",
       "      <td>448.0</td>\n",
       "    </tr>\n",
       "    <tr>\n",
       "      <th>1</th>\n",
       "      <td>grape001T(10)</td>\n",
       "      <td>grape001S(10)</td>\n",
       "      <td>184.483</td>\n",
       "      <td>182.317</td>\n",
       "      <td>111.697</td>\n",
       "      <td>185.366</td>\n",
       "      <td>3756.860137</td>\n",
       "      <td>450</td>\n",
       "      <td>448.0</td>\n",
       "    </tr>\n",
       "    <tr>\n",
       "      <th>2</th>\n",
       "      <td>grape001T(11)</td>\n",
       "      <td>grape001S(11)</td>\n",
       "      <td>207.203</td>\n",
       "      <td>165.361</td>\n",
       "      <td>114.356</td>\n",
       "      <td>157.716</td>\n",
       "      <td>3918.213395</td>\n",
       "      <td>450</td>\n",
       "      <td>448.0</td>\n",
       "    </tr>\n",
       "    <tr>\n",
       "      <th>3</th>\n",
       "      <td>grape001T(12)</td>\n",
       "      <td>grape001S(12)</td>\n",
       "      <td>181.034</td>\n",
       "      <td>193.438</td>\n",
       "      <td>98.810</td>\n",
       "      <td>167.378</td>\n",
       "      <td>3460.213052</td>\n",
       "      <td>450</td>\n",
       "      <td>448.0</td>\n",
       "    </tr>\n",
       "    <tr>\n",
       "      <th>4</th>\n",
       "      <td>grape001T(2)</td>\n",
       "      <td>grape001S(2)</td>\n",
       "      <td>186.972</td>\n",
       "      <td>169.271</td>\n",
       "      <td>99.764</td>\n",
       "      <td>154.023</td>\n",
       "      <td>3157.424592</td>\n",
       "      <td>450</td>\n",
       "      <td>448.0</td>\n",
       "    </tr>\n",
       "    <tr>\n",
       "      <th>5</th>\n",
       "      <td>grape001T(3)</td>\n",
       "      <td>grape001S(3)</td>\n",
       "      <td>181.855</td>\n",
       "      <td>188.793</td>\n",
       "      <td>91.435</td>\n",
       "      <td>166.987</td>\n",
       "      <td>3139.233376</td>\n",
       "      <td>450</td>\n",
       "      <td>448.0</td>\n",
       "    </tr>\n",
       "    <tr>\n",
       "      <th>6</th>\n",
       "      <td>grape001T(4)</td>\n",
       "      <td>grape001S(4)</td>\n",
       "      <td>186.071</td>\n",
       "      <td>157.750</td>\n",
       "      <td>109.466</td>\n",
       "      <td>174.383</td>\n",
       "      <td>3213.122686</td>\n",
       "      <td>450</td>\n",
       "      <td>448.0</td>\n",
       "    </tr>\n",
       "    <tr>\n",
       "      <th>7</th>\n",
       "      <td>grape001T(5)</td>\n",
       "      <td>grape001S(5)</td>\n",
       "      <td>183.099</td>\n",
       "      <td>178.713</td>\n",
       "      <td>98.058</td>\n",
       "      <td>169.156</td>\n",
       "      <td>3208.670701</td>\n",
       "      <td>450</td>\n",
       "      <td>448.0</td>\n",
       "    </tr>\n",
       "    <tr>\n",
       "      <th>8</th>\n",
       "      <td>grape001T(6)</td>\n",
       "      <td>grape001S(6)</td>\n",
       "      <td>173.214</td>\n",
       "      <td>147.159</td>\n",
       "      <td>105.714</td>\n",
       "      <td>140.244</td>\n",
       "      <td>2694.649757</td>\n",
       "      <td>450</td>\n",
       "      <td>448.0</td>\n",
       "    </tr>\n",
       "    <tr>\n",
       "      <th>9</th>\n",
       "      <td>grape001T(7)</td>\n",
       "      <td>grape001S(7)</td>\n",
       "      <td>146.071</td>\n",
       "      <td>190.517</td>\n",
       "      <td>107.381</td>\n",
       "      <td>175.000</td>\n",
       "      <td>2988.306784</td>\n",
       "      <td>450</td>\n",
       "      <td>448.0</td>\n",
       "    </tr>\n",
       "  </tbody>\n",
       "</table>\n",
       "</div>"
      ],
      "text/plain": [
       "       label_top     label_side   lenght  breadth   height   side_x  \\\n",
       "0   grape001T(1)   grape001S(1)  181.452  173.476  108.252  161.111   \n",
       "1  grape001T(10)  grape001S(10)  184.483  182.317  111.697  185.366   \n",
       "2  grape001T(11)  grape001S(11)  207.203  165.361  114.356  157.716   \n",
       "3  grape001T(12)  grape001S(12)  181.034  193.438   98.810  167.378   \n",
       "4   grape001T(2)   grape001S(2)  186.972  169.271   99.764  154.023   \n",
       "5   grape001T(3)   grape001S(3)  181.855  188.793   91.435  166.987   \n",
       "6   grape001T(4)   grape001S(4)  186.071  157.750  109.466  174.383   \n",
       "7   grape001T(5)   grape001S(5)  183.099  178.713   98.058  169.156   \n",
       "8   grape001T(6)   grape001S(6)  173.214  147.159  105.714  140.244   \n",
       "9   grape001T(7)   grape001S(7)  146.071  190.517  107.381  175.000   \n",
       "\n",
       "   cuboid_volume  actual_volume  weight  \n",
       "0    3407.509599            450   448.0  \n",
       "1    3756.860137            450   448.0  \n",
       "2    3918.213395            450   448.0  \n",
       "3    3460.213052            450   448.0  \n",
       "4    3157.424592            450   448.0  \n",
       "5    3139.233376            450   448.0  \n",
       "6    3213.122686            450   448.0  \n",
       "7    3208.670701            450   448.0  \n",
       "8    2694.649757            450   448.0  \n",
       "9    2988.306784            450   448.0  "
      ]
     },
     "execution_count": 190,
     "metadata": {},
     "output_type": "execute_result"
    }
   ],
   "source": [
    "grape_df = pd.read_csv('ECUSTFD-resized-/Regression/processed_regression_grape.csv')\n",
    "grape_df.head(10)"
   ]
  },
  {
   "cell_type": "code",
   "execution_count": 162,
   "id": "816f872e-9b3d-425b-9fcc-a903132dd088",
   "metadata": {},
   "outputs": [
    {
     "data": {
      "text/plain": [
       "<AxesSubplot:xlabel='cuboid_volume', ylabel='actual_volume'>"
      ]
     },
     "execution_count": 162,
     "metadata": {},
     "output_type": "execute_result"
    },
    {
     "data": {
      "image/png": "[encoded data removed]",
      "text/plain": [
       "<Figure size 432x288 with 1 Axes>"
      ]
     },
     "metadata": {},
     "output_type": "display_data"
    }
   ],
   "source": [
    "sns.scatterplot(x=grape_df.cuboid_volume, y=grape_df.actual_volume)"
   ]
  },
  {
   "cell_type": "code",
   "execution_count": 163,
   "id": "ab3e42c0-e543-4000-8875-da4ea7a4a68b",
   "metadata": {},
   "outputs": [],
   "source": [
    "x = grape_df.cuboid_volume.values\n",
    "y = grape_df.actual_volume.values\n",
    "\n",
    "X_train, X_test, y_train, y_test = train_test_split(x, y, test_size=0.10, random_state=0)"
   ]
  },
  {
   "cell_type": "code",
   "execution_count": 164,
   "id": "cc6109e4-3e02-407d-af1a-7e3db94ebaf0",
   "metadata": {},
   "outputs": [
    {
     "data": {
      "text/plain": [
       "LinearRegression(fit_intercept=False)"
      ]
     },
     "execution_count": 164,
     "metadata": {},
     "output_type": "execute_result"
    }
   ],
   "source": [
    "X_train = X_train.reshape(-1,1)\n",
    "X_test = X_test.reshape(-1,1)\n",
    "y_train = y_train.reshape(-1,1)\n",
    "y_test = y_test.reshape(-1,1)\n",
    "\n",
    "grape_model = LinearRegression(fit_intercept=False)\n",
    "grape_model.fit(X_train, y_train)"
   ]
  },
  {
   "cell_type": "code",
   "execution_count": 165,
   "id": "f40d6d77-f59f-4bc5-83a2-7dd212525806",
   "metadata": {},
   "outputs": [
    {
     "name": "stdout",
     "output_type": "stream",
     "text": [
      "0.5540690831801768\n",
      "[[0.1526109]]\n",
      "0.0\n"
     ]
    }
   ],
   "source": [
    "print(grape_model.score(X_train, y_train))\n",
    "print(grape_model.coef_)\n",
    "print(grape_model.intercept_)"
   ]
  },
  {
   "cell_type": "code",
   "execution_count": 166,
   "id": "7464472c-baad-4ec0-ac20-618667277f06",
   "metadata": {},
   "outputs": [
    {
     "data": {
      "image/png": "[encoded data removed]",
      "text/plain": [
       "<Figure size 432x288 with 1 Axes>"
      ]
     },
     "metadata": {},
     "output_type": "display_data"
    }
   ],
   "source": [
    "try_parameters(grape_df.cuboid_volume, grape_df.actual_volume, grape_model.coef_[0], grape_model.intercept_)"
   ]
  },
  {
   "cell_type": "code",
   "execution_count": null,
   "id": "5596ea3c-0526-44e2-b94d-61bc44e1dc05",
   "metadata": {},
   "outputs": [],
   "source": []
  }
 ],
 "metadata": {
  "kernelspec": {
   "display_name": "Python 3 (ipykernel)",
   "language": "python",
   "name": "python3"
  },
  "language_info": {
   "codemirror_mode": {
    "name": "ipython",
    "version": 3
   },
   "file_extension": ".py",
   "mimetype": "text/x-python",
   "name": "python",
   "nbconvert_exporter": "python",
   "pygments_lexer": "ipython3",
   "version": "3.9.7"
  }
 },
 "nbformat": 4,
 "nbformat_minor": 5
}
